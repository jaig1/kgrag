{
 "cells": [
  {
   "cell_type": "markdown",
   "id": "dc99d474",
   "metadata": {},
   "source": [
    "# BBC News Dataset - Data Exploration\n",
    "\n",
    "This notebook provides comprehensive exploration of the BBC News dataset subset that we'll use for our KG-Enhanced RAG system.\n",
    "\n",
    "## Objectives:\n",
    "1. Load and examine the dataset structure\n",
    "2. Analyze category distribution\n",
    "3. Explore text length statistics\n",
    "4. Visualize data characteristics\n",
    "5. Display sample articles from each category\n",
    "6. Assess data quality for RAG implementation\n",
    "\n",
    "---"
   ]
  },
  {
   "cell_type": "code",
   "execution_count": 1,
   "id": "3eb4b74f",
   "metadata": {},
   "outputs": [
    {
     "name": "stdout",
     "output_type": "stream",
     "text": [
      "📚 Libraries imported successfully!\n",
      "📁 Project root: /Users/jaig/kgrag/notebooks/..\n",
      "📊 Expected dataset size: 50 articles\n"
     ]
    }
   ],
   "source": [
    "# Import Required Libraries\n",
    "import json\n",
    "import pandas as pd\n",
    "import numpy as np\n",
    "import matplotlib.pyplot as plt\n",
    "import plotly.express as px\n",
    "import plotly.graph_objects as go\n",
    "from plotly.subplots import make_subplots\n",
    "from pathlib import Path\n",
    "import sys\n",
    "from collections import Counter, defaultdict\n",
    "\n",
    "# Add src to path for imports\n",
    "sys.path.append('../src')\n",
    "from config import config\n",
    "\n",
    "# Set up plotting style\n",
    "plt.style.use('default')\n",
    "plt.rcParams['figure.figsize'] = (12, 6)\n",
    "plt.rcParams['font.size'] = 11\n",
    "\n",
    "print(\"📚 Libraries imported successfully!\")\n",
    "print(f\"📁 Project root: {config.PROJECT_ROOT}\")\n",
    "print(f\"📊 Expected dataset size: {config.DATASET_SIZE} articles\")"
   ]
  },
  {
   "cell_type": "code",
   "execution_count": 2,
   "id": "64b8b588",
   "metadata": {},
   "outputs": [
    {
     "name": "stdout",
     "output_type": "stream",
     "text": [
      "📂 Loading dataset from: /Users/jaig/kgrag/notebooks/../data/raw/bbc_news_subset.json\n",
      "✅ Dataset loaded successfully!\n",
      "📊 Total articles: 50\n",
      "📅 Created: 2025-09-29T16:20:09.324964\n",
      "🏷️ Categories: ['business', 'entertainment', 'politics', 'sport', 'tech']\n"
     ]
    }
   ],
   "source": [
    "# Load the BBC News Dataset\n",
    "dataset_path = config.get_bbc_subset_path()\n",
    "\n",
    "print(f\"📂 Loading dataset from: {dataset_path}\")\n",
    "\n",
    "try:\n",
    "    with open(dataset_path, 'r', encoding='utf-8') as f:\n",
    "        dataset_json = json.load(f)\n",
    "    \n",
    "    # Extract metadata and articles\n",
    "    metadata = dataset_json['dataset_info']\n",
    "    articles = dataset_json['articles']\n",
    "    \n",
    "    print(\"✅ Dataset loaded successfully!\")\n",
    "    print(f\"📊 Total articles: {len(articles)}\")\n",
    "    print(f\"📅 Created: {metadata['creation_date']}\")\n",
    "    print(f\"🏷️ Categories: {metadata['categories']}\")\n",
    "    \n",
    "except FileNotFoundError:\n",
    "    print(\"❌ Dataset file not found!\")\n",
    "    print(\"💡 Please run the dataset loader script first:\")\n",
    "    print(\"   python -m src.ingestion.dataset_loader\")\n",
    "    sys.exit(1)\n",
    "except Exception as e:\n",
    "    print(f\"❌ Error loading dataset: {e}\")\n",
    "    sys.exit(1)"
   ]
  },
  {
   "cell_type": "code",
   "execution_count": 3,
   "id": "b2456d00",
   "metadata": {},
   "outputs": [
    {
     "name": "stdout",
     "output_type": "stream",
     "text": [
      "📋 Dataset Overview:\n",
      "Shape: (50, 6)\n",
      "Columns: ['original_index', 'category', 'text', 'label', 'label_text', 'article_id']\n",
      "\n",
      "🔍 Data Types:\n",
      "original_index     int64\n",
      "category          object\n",
      "text              object\n",
      "label              int64\n",
      "label_text        object\n",
      "article_id        object\n",
      "dtype: object\n",
      "\n",
      "📊 First few rows:\n"
     ]
    },
    {
     "data": {
      "text/html": [
       "<div>\n",
       "<style scoped>\n",
       "    .dataframe tbody tr th:only-of-type {\n",
       "        vertical-align: middle;\n",
       "    }\n",
       "\n",
       "    .dataframe tbody tr th {\n",
       "        vertical-align: top;\n",
       "    }\n",
       "\n",
       "    .dataframe thead th {\n",
       "        text-align: right;\n",
       "    }\n",
       "</style>\n",
       "<table border=\"1\" class=\"dataframe\">\n",
       "  <thead>\n",
       "    <tr style=\"text-align: right;\">\n",
       "      <th></th>\n",
       "      <th>original_index</th>\n",
       "      <th>category</th>\n",
       "      <th>text</th>\n",
       "      <th>label</th>\n",
       "      <th>label_text</th>\n",
       "      <th>article_id</th>\n",
       "    </tr>\n",
       "  </thead>\n",
       "  <tbody>\n",
       "    <tr>\n",
       "      <th>0</th>\n",
       "      <td>284</td>\n",
       "      <td>business</td>\n",
       "      <td>france telecom gets orange boost strong growth...</td>\n",
       "      <td>1</td>\n",
       "      <td>business</td>\n",
       "      <td>bbc_business_00</td>\n",
       "    </tr>\n",
       "    <tr>\n",
       "      <th>1</th>\n",
       "      <td>61</td>\n",
       "      <td>business</td>\n",
       "      <td>fannie mae  should restate books  us mortgage ...</td>\n",
       "      <td>1</td>\n",
       "      <td>business</td>\n",
       "      <td>bbc_business_01</td>\n",
       "    </tr>\n",
       "    <tr>\n",
       "      <th>2</th>\n",
       "      <td>643</td>\n",
       "      <td>business</td>\n",
       "      <td>mexican in us send $16bn home mexican labourer...</td>\n",
       "      <td>1</td>\n",
       "      <td>business</td>\n",
       "      <td>bbc_business_02</td>\n",
       "    </tr>\n",
       "    <tr>\n",
       "      <th>3</th>\n",
       "      <td>593</td>\n",
       "      <td>business</td>\n",
       "      <td>christmas sales worst since 1981 uk retail sal...</td>\n",
       "      <td>1</td>\n",
       "      <td>business</td>\n",
       "      <td>bbc_business_03</td>\n",
       "    </tr>\n",
       "    <tr>\n",
       "      <th>4</th>\n",
       "      <td>535</td>\n",
       "      <td>business</td>\n",
       "      <td>japan s ageing workforce: built to last in his...</td>\n",
       "      <td>1</td>\n",
       "      <td>business</td>\n",
       "      <td>bbc_business_04</td>\n",
       "    </tr>\n",
       "  </tbody>\n",
       "</table>\n",
       "</div>"
      ],
      "text/plain": [
       "   original_index  category  \\\n",
       "0             284  business   \n",
       "1              61  business   \n",
       "2             643  business   \n",
       "3             593  business   \n",
       "4             535  business   \n",
       "\n",
       "                                                text  label label_text  \\\n",
       "0  france telecom gets orange boost strong growth...      1   business   \n",
       "1  fannie mae  should restate books  us mortgage ...      1   business   \n",
       "2  mexican in us send $16bn home mexican labourer...      1   business   \n",
       "3  christmas sales worst since 1981 uk retail sal...      1   business   \n",
       "4  japan s ageing workforce: built to last in his...      1   business   \n",
       "\n",
       "        article_id  \n",
       "0  bbc_business_00  \n",
       "1  bbc_business_01  \n",
       "2  bbc_business_02  \n",
       "3  bbc_business_03  \n",
       "4  bbc_business_04  "
      ]
     },
     "execution_count": 3,
     "metadata": {},
     "output_type": "execute_result"
    }
   ],
   "source": [
    "# Convert to DataFrame for easier analysis\n",
    "df = pd.DataFrame(articles)\n",
    "\n",
    "print(\"📋 Dataset Overview:\")\n",
    "print(f\"Shape: {df.shape}\")\n",
    "print(f\"Columns: {list(df.columns)}\")\n",
    "print(\"\\n🔍 Data Types:\")\n",
    "print(df.dtypes)\n",
    "print(\"\\n📊 First few rows:\")\n",
    "df.head()"
   ]
  },
  {
   "cell_type": "markdown",
   "id": "93650d30",
   "metadata": {},
   "source": [
    "## Category Distribution Analysis\n",
    "\n",
    "Let's examine how articles are distributed across different BBC News categories."
   ]
  },
  {
   "cell_type": "code",
   "execution_count": 4,
   "id": "32824c1c",
   "metadata": {},
   "outputs": [
    {
     "name": "stdout",
     "output_type": "stream",
     "text": [
      "📊 Category Distribution:\n",
      "  Business: 10 articles\n",
      "  Entertainment: 10 articles\n",
      "  Politics: 10 articles\n",
      "  Sport: 10 articles\n",
      "  Tech: 10 articles\n"
     ]
    },
    {
     "data": {
      "application/vnd.plotly.v1+json": {
       "config": {
        "plotlyServerURL": "https://plot.ly"
       },
       "data": [
        {
         "hovertemplate": "Category=%{x}<br>Number of Articles=%{y}<br>color=%{marker.color}<extra></extra>",
         "legendgroup": "",
         "marker": {
          "color": {
           "bdata": "CgoKCgo=",
           "dtype": "i1"
          },
          "coloraxis": "coloraxis",
          "pattern": {
           "shape": ""
          }
         },
         "name": "",
         "orientation": "v",
         "showlegend": false,
         "textposition": "auto",
         "type": "bar",
         "x": [
          "business",
          "entertainment",
          "politics",
          "sport",
          "tech"
         ],
         "xaxis": "x",
         "y": {
          "bdata": "CgoKCgo=",
          "dtype": "i1"
         },
         "yaxis": "y"
        }
       ],
       "layout": {
        "barmode": "relative",
        "coloraxis": {
         "colorbar": {
          "title": {
           "text": "color"
          }
         },
         "colorscale": [
          [
           0,
           "#440154"
          ],
          [
           0.1111111111111111,
           "#482878"
          ],
          [
           0.2222222222222222,
           "#3e4989"
          ],
          [
           0.3333333333333333,
           "#31688e"
          ],
          [
           0.4444444444444444,
           "#26828e"
          ],
          [
           0.5555555555555556,
           "#1f9e89"
          ],
          [
           0.6666666666666666,
           "#35b779"
          ],
          [
           0.7777777777777778,
           "#6ece58"
          ],
          [
           0.8888888888888888,
           "#b5de2b"
          ],
          [
           1,
           "#fde725"
          ]
         ]
        },
        "height": 400,
        "legend": {
         "tracegroupgap": 0
        },
        "showlegend": false,
        "template": {
         "data": {
          "bar": [
           {
            "error_x": {
             "color": "#2a3f5f"
            },
            "error_y": {
             "color": "#2a3f5f"
            },
            "marker": {
             "line": {
              "color": "#E5ECF6",
              "width": 0.5
             },
             "pattern": {
              "fillmode": "overlay",
              "size": 10,
              "solidity": 0.2
             }
            },
            "type": "bar"
           }
          ],
          "barpolar": [
           {
            "marker": {
             "line": {
              "color": "#E5ECF6",
              "width": 0.5
             },
             "pattern": {
              "fillmode": "overlay",
              "size": 10,
              "solidity": 0.2
             }
            },
            "type": "barpolar"
           }
          ],
          "carpet": [
           {
            "aaxis": {
             "endlinecolor": "#2a3f5f",
             "gridcolor": "white",
             "linecolor": "white",
             "minorgridcolor": "white",
             "startlinecolor": "#2a3f5f"
            },
            "baxis": {
             "endlinecolor": "#2a3f5f",
             "gridcolor": "white",
             "linecolor": "white",
             "minorgridcolor": "white",
             "startlinecolor": "#2a3f5f"
            },
            "type": "carpet"
           }
          ],
          "choropleth": [
           {
            "colorbar": {
             "outlinewidth": 0,
             "ticks": ""
            },
            "type": "choropleth"
           }
          ],
          "contour": [
           {
            "colorbar": {
             "outlinewidth": 0,
             "ticks": ""
            },
            "colorscale": [
             [
              0,
              "#0d0887"
             ],
             [
              0.1111111111111111,
              "#46039f"
             ],
             [
              0.2222222222222222,
              "#7201a8"
             ],
             [
              0.3333333333333333,
              "#9c179e"
             ],
             [
              0.4444444444444444,
              "#bd3786"
             ],
             [
              0.5555555555555556,
              "#d8576b"
             ],
             [
              0.6666666666666666,
              "#ed7953"
             ],
             [
              0.7777777777777778,
              "#fb9f3a"
             ],
             [
              0.8888888888888888,
              "#fdca26"
             ],
             [
              1,
              "#f0f921"
             ]
            ],
            "type": "contour"
           }
          ],
          "contourcarpet": [
           {
            "colorbar": {
             "outlinewidth": 0,
             "ticks": ""
            },
            "type": "contourcarpet"
           }
          ],
          "heatmap": [
           {
            "colorbar": {
             "outlinewidth": 0,
             "ticks": ""
            },
            "colorscale": [
             [
              0,
              "#0d0887"
             ],
             [
              0.1111111111111111,
              "#46039f"
             ],
             [
              0.2222222222222222,
              "#7201a8"
             ],
             [
              0.3333333333333333,
              "#9c179e"
             ],
             [
              0.4444444444444444,
              "#bd3786"
             ],
             [
              0.5555555555555556,
              "#d8576b"
             ],
             [
              0.6666666666666666,
              "#ed7953"
             ],
             [
              0.7777777777777778,
              "#fb9f3a"
             ],
             [
              0.8888888888888888,
              "#fdca26"
             ],
             [
              1,
              "#f0f921"
             ]
            ],
            "type": "heatmap"
           }
          ],
          "histogram": [
           {
            "marker": {
             "pattern": {
              "fillmode": "overlay",
              "size": 10,
              "solidity": 0.2
             }
            },
            "type": "histogram"
           }
          ],
          "histogram2d": [
           {
            "colorbar": {
             "outlinewidth": 0,
             "ticks": ""
            },
            "colorscale": [
             [
              0,
              "#0d0887"
             ],
             [
              0.1111111111111111,
              "#46039f"
             ],
             [
              0.2222222222222222,
              "#7201a8"
             ],
             [
              0.3333333333333333,
              "#9c179e"
             ],
             [
              0.4444444444444444,
              "#bd3786"
             ],
             [
              0.5555555555555556,
              "#d8576b"
             ],
             [
              0.6666666666666666,
              "#ed7953"
             ],
             [
              0.7777777777777778,
              "#fb9f3a"
             ],
             [
              0.8888888888888888,
              "#fdca26"
             ],
             [
              1,
              "#f0f921"
             ]
            ],
            "type": "histogram2d"
           }
          ],
          "histogram2dcontour": [
           {
            "colorbar": {
             "outlinewidth": 0,
             "ticks": ""
            },
            "colorscale": [
             [
              0,
              "#0d0887"
             ],
             [
              0.1111111111111111,
              "#46039f"
             ],
             [
              0.2222222222222222,
              "#7201a8"
             ],
             [
              0.3333333333333333,
              "#9c179e"
             ],
             [
              0.4444444444444444,
              "#bd3786"
             ],
             [
              0.5555555555555556,
              "#d8576b"
             ],
             [
              0.6666666666666666,
              "#ed7953"
             ],
             [
              0.7777777777777778,
              "#fb9f3a"
             ],
             [
              0.8888888888888888,
              "#fdca26"
             ],
             [
              1,
              "#f0f921"
             ]
            ],
            "type": "histogram2dcontour"
           }
          ],
          "mesh3d": [
           {
            "colorbar": {
             "outlinewidth": 0,
             "ticks": ""
            },
            "type": "mesh3d"
           }
          ],
          "parcoords": [
           {
            "line": {
             "colorbar": {
              "outlinewidth": 0,
              "ticks": ""
             }
            },
            "type": "parcoords"
           }
          ],
          "pie": [
           {
            "automargin": true,
            "type": "pie"
           }
          ],
          "scatter": [
           {
            "fillpattern": {
             "fillmode": "overlay",
             "size": 10,
             "solidity": 0.2
            },
            "type": "scatter"
           }
          ],
          "scatter3d": [
           {
            "line": {
             "colorbar": {
              "outlinewidth": 0,
              "ticks": ""
             }
            },
            "marker": {
             "colorbar": {
              "outlinewidth": 0,
              "ticks": ""
             }
            },
            "type": "scatter3d"
           }
          ],
          "scattercarpet": [
           {
            "marker": {
             "colorbar": {
              "outlinewidth": 0,
              "ticks": ""
             }
            },
            "type": "scattercarpet"
           }
          ],
          "scattergeo": [
           {
            "marker": {
             "colorbar": {
              "outlinewidth": 0,
              "ticks": ""
             }
            },
            "type": "scattergeo"
           }
          ],
          "scattergl": [
           {
            "marker": {
             "colorbar": {
              "outlinewidth": 0,
              "ticks": ""
             }
            },
            "type": "scattergl"
           }
          ],
          "scattermap": [
           {
            "marker": {
             "colorbar": {
              "outlinewidth": 0,
              "ticks": ""
             }
            },
            "type": "scattermap"
           }
          ],
          "scattermapbox": [
           {
            "marker": {
             "colorbar": {
              "outlinewidth": 0,
              "ticks": ""
             }
            },
            "type": "scattermapbox"
           }
          ],
          "scatterpolar": [
           {
            "marker": {
             "colorbar": {
              "outlinewidth": 0,
              "ticks": ""
             }
            },
            "type": "scatterpolar"
           }
          ],
          "scatterpolargl": [
           {
            "marker": {
             "colorbar": {
              "outlinewidth": 0,
              "ticks": ""
             }
            },
            "type": "scatterpolargl"
           }
          ],
          "scatterternary": [
           {
            "marker": {
             "colorbar": {
              "outlinewidth": 0,
              "ticks": ""
             }
            },
            "type": "scatterternary"
           }
          ],
          "surface": [
           {
            "colorbar": {
             "outlinewidth": 0,
             "ticks": ""
            },
            "colorscale": [
             [
              0,
              "#0d0887"
             ],
             [
              0.1111111111111111,
              "#46039f"
             ],
             [
              0.2222222222222222,
              "#7201a8"
             ],
             [
              0.3333333333333333,
              "#9c179e"
             ],
             [
              0.4444444444444444,
              "#bd3786"
             ],
             [
              0.5555555555555556,
              "#d8576b"
             ],
             [
              0.6666666666666666,
              "#ed7953"
             ],
             [
              0.7777777777777778,
              "#fb9f3a"
             ],
             [
              0.8888888888888888,
              "#fdca26"
             ],
             [
              1,
              "#f0f921"
             ]
            ],
            "type": "surface"
           }
          ],
          "table": [
           {
            "cells": {
             "fill": {
              "color": "#EBF0F8"
             },
             "line": {
              "color": "white"
             }
            },
            "header": {
             "fill": {
              "color": "#C8D4E3"
             },
             "line": {
              "color": "white"
             }
            },
            "type": "table"
           }
          ]
         },
         "layout": {
          "annotationdefaults": {
           "arrowcolor": "#2a3f5f",
           "arrowhead": 0,
           "arrowwidth": 1
          },
          "autotypenumbers": "strict",
          "coloraxis": {
           "colorbar": {
            "outlinewidth": 0,
            "ticks": ""
           }
          },
          "colorscale": {
           "diverging": [
            [
             0,
             "#8e0152"
            ],
            [
             0.1,
             "#c51b7d"
            ],
            [
             0.2,
             "#de77ae"
            ],
            [
             0.3,
             "#f1b6da"
            ],
            [
             0.4,
             "#fde0ef"
            ],
            [
             0.5,
             "#f7f7f7"
            ],
            [
             0.6,
             "#e6f5d0"
            ],
            [
             0.7,
             "#b8e186"
            ],
            [
             0.8,
             "#7fbc41"
            ],
            [
             0.9,
             "#4d9221"
            ],
            [
             1,
             "#276419"
            ]
           ],
           "sequential": [
            [
             0,
             "#0d0887"
            ],
            [
             0.1111111111111111,
             "#46039f"
            ],
            [
             0.2222222222222222,
             "#7201a8"
            ],
            [
             0.3333333333333333,
             "#9c179e"
            ],
            [
             0.4444444444444444,
             "#bd3786"
            ],
            [
             0.5555555555555556,
             "#d8576b"
            ],
            [
             0.6666666666666666,
             "#ed7953"
            ],
            [
             0.7777777777777778,
             "#fb9f3a"
            ],
            [
             0.8888888888888888,
             "#fdca26"
            ],
            [
             1,
             "#f0f921"
            ]
           ],
           "sequentialminus": [
            [
             0,
             "#0d0887"
            ],
            [
             0.1111111111111111,
             "#46039f"
            ],
            [
             0.2222222222222222,
             "#7201a8"
            ],
            [
             0.3333333333333333,
             "#9c179e"
            ],
            [
             0.4444444444444444,
             "#bd3786"
            ],
            [
             0.5555555555555556,
             "#d8576b"
            ],
            [
             0.6666666666666666,
             "#ed7953"
            ],
            [
             0.7777777777777778,
             "#fb9f3a"
            ],
            [
             0.8888888888888888,
             "#fdca26"
            ],
            [
             1,
             "#f0f921"
            ]
           ]
          },
          "colorway": [
           "#636efa",
           "#EF553B",
           "#00cc96",
           "#ab63fa",
           "#FFA15A",
           "#19d3f3",
           "#FF6692",
           "#B6E880",
           "#FF97FF",
           "#FECB52"
          ],
          "font": {
           "color": "#2a3f5f"
          },
          "geo": {
           "bgcolor": "white",
           "lakecolor": "white",
           "landcolor": "#E5ECF6",
           "showlakes": true,
           "showland": true,
           "subunitcolor": "white"
          },
          "hoverlabel": {
           "align": "left"
          },
          "hovermode": "closest",
          "mapbox": {
           "style": "light"
          },
          "paper_bgcolor": "white",
          "plot_bgcolor": "#E5ECF6",
          "polar": {
           "angularaxis": {
            "gridcolor": "white",
            "linecolor": "white",
            "ticks": ""
           },
           "bgcolor": "#E5ECF6",
           "radialaxis": {
            "gridcolor": "white",
            "linecolor": "white",
            "ticks": ""
           }
          },
          "scene": {
           "xaxis": {
            "backgroundcolor": "#E5ECF6",
            "gridcolor": "white",
            "gridwidth": 2,
            "linecolor": "white",
            "showbackground": true,
            "ticks": "",
            "zerolinecolor": "white"
           },
           "yaxis": {
            "backgroundcolor": "#E5ECF6",
            "gridcolor": "white",
            "gridwidth": 2,
            "linecolor": "white",
            "showbackground": true,
            "ticks": "",
            "zerolinecolor": "white"
           },
           "zaxis": {
            "backgroundcolor": "#E5ECF6",
            "gridcolor": "white",
            "gridwidth": 2,
            "linecolor": "white",
            "showbackground": true,
            "ticks": "",
            "zerolinecolor": "white"
           }
          },
          "shapedefaults": {
           "line": {
            "color": "#2a3f5f"
           }
          },
          "ternary": {
           "aaxis": {
            "gridcolor": "white",
            "linecolor": "white",
            "ticks": ""
           },
           "baxis": {
            "gridcolor": "white",
            "linecolor": "white",
            "ticks": ""
           },
           "bgcolor": "#E5ECF6",
           "caxis": {
            "gridcolor": "white",
            "linecolor": "white",
            "ticks": ""
           }
          },
          "title": {
           "x": 0.05
          },
          "xaxis": {
           "automargin": true,
           "gridcolor": "white",
           "linecolor": "white",
           "ticks": "",
           "title": {
            "standoff": 15
           },
           "zerolinecolor": "white",
           "zerolinewidth": 2
          },
          "yaxis": {
           "automargin": true,
           "gridcolor": "white",
           "linecolor": "white",
           "ticks": "",
           "title": {
            "standoff": 15
           },
           "zerolinecolor": "white",
           "zerolinewidth": 2
          }
         }
        },
        "title": {
         "text": "BBC News Articles Distribution by Category"
        },
        "xaxis": {
         "anchor": "y",
         "domain": [
          0,
          1
         ],
         "title": {
          "text": "Category"
         }
        },
        "yaxis": {
         "anchor": "x",
         "domain": [
          0,
          1
         ],
         "title": {
          "text": "Number of Articles"
         }
        }
       }
      }
     },
     "metadata": {},
     "output_type": "display_data"
    }
   ],
   "source": [
    "# Category Distribution Analysis\n",
    "category_counts = df['category'].value_counts().sort_index()\n",
    "\n",
    "print(\"📊 Category Distribution:\")\n",
    "for category, count in category_counts.items():\n",
    "    print(f\"  {category.capitalize()}: {count} articles\")\n",
    "\n",
    "# Create interactive bar chart\n",
    "fig = px.bar(\n",
    "    x=category_counts.index, \n",
    "    y=category_counts.values,\n",
    "    title=\"BBC News Articles Distribution by Category\",\n",
    "    labels={'x': 'Category', 'y': 'Number of Articles'},\n",
    "    color=category_counts.values,\n",
    "    color_continuous_scale='viridis'\n",
    ")\n",
    "\n",
    "fig.update_layout(\n",
    "    xaxis_title=\"Category\",\n",
    "    yaxis_title=\"Number of Articles\",\n",
    "    showlegend=False,\n",
    "    height=400\n",
    ")\n",
    "\n",
    "fig.show()"
   ]
  },
  {
   "cell_type": "markdown",
   "id": "14b25d4b",
   "metadata": {},
   "source": [
    "## Text Length Analysis\n",
    "\n",
    "Understanding the length characteristics of our articles is crucial for chunking strategy in RAG systems."
   ]
  },
  {
   "cell_type": "code",
   "execution_count": 5,
   "id": "ef12b22f",
   "metadata": {},
   "outputs": [
    {
     "name": "stdout",
     "output_type": "stream",
     "text": [
      "📏 Text Length Statistics by Category:\n",
      "              text_length_chars                     text_length_words         \\\n",
      "                           mean     std   min   max              mean    std   \n",
      "category                                                                       \n",
      "business                 2453.0  1268.0  1325  5355             408.0  219.0   \n",
      "entertainment            1903.0   568.0  1177  2929             340.0  107.0   \n",
      "politics                 2662.0   612.0  1705  3632             458.0  111.0   \n",
      "sport                    2312.0   900.0   789  3414             403.0  164.0   \n",
      "tech                     2546.0  1056.0  1544  5182             432.0  192.0   \n",
      "\n",
      "                         \n",
      "               min  max  \n",
      "category                 \n",
      "business       215  912  \n",
      "entertainment  198  531  \n",
      "politics       280  638  \n",
      "sport          132  632  \n",
      "tech           265  918  \n"
     ]
    }
   ],
   "source": [
    "# Calculate text statistics\n",
    "df['text_length_chars'] = df['text'].str.len()\n",
    "df['text_length_words'] = df['text'].str.split().str.len()\n",
    "\n",
    "# Calculate statistics by category\n",
    "stats_by_category = df.groupby('category').agg({\n",
    "    'text_length_chars': ['mean', 'std', 'min', 'max'],\n",
    "    'text_length_words': ['mean', 'std', 'min', 'max']\n",
    "}).round(0)\n",
    "\n",
    "print(\"📏 Text Length Statistics by Category:\")\n",
    "print(stats_by_category)"
   ]
  },
  {
   "cell_type": "code",
   "execution_count": 6,
   "id": "c39fba94",
   "metadata": {},
   "outputs": [
    {
     "name": "stdout",
     "output_type": "stream",
     "text": [
      "📈 Overall Text Statistics:\n",
      "\n",
      "Characters:\n",
      "  Mean: 2375\n",
      "  Median: 2224\n",
      "  Std: 920\n",
      "  Min: 789\n",
      "  Max: 5355\n",
      "\n",
      "Words:\n",
      "  Mean: 408\n",
      "  Median: 380\n",
      "  Std: 163\n",
      "  Min: 132\n",
      "  Max: 918\n"
     ]
    }
   ],
   "source": [
    "# Overall text statistics\n",
    "overall_stats = {\n",
    "    'Characters': {\n",
    "        'Mean': df['text_length_chars'].mean(),\n",
    "        'Median': df['text_length_chars'].median(),\n",
    "        'Std': df['text_length_chars'].std(),\n",
    "        'Min': df['text_length_chars'].min(),\n",
    "        'Max': df['text_length_chars'].max()\n",
    "    },\n",
    "    'Words': {\n",
    "        'Mean': df['text_length_words'].mean(),\n",
    "        'Median': df['text_length_words'].median(),\n",
    "        'Std': df['text_length_words'].std(),\n",
    "        'Min': df['text_length_words'].min(),\n",
    "        'Max': df['text_length_words'].max()\n",
    "    }\n",
    "}\n",
    "\n",
    "print(\"📈 Overall Text Statistics:\")\n",
    "for metric_type, stats in overall_stats.items():\n",
    "    print(f\"\\n{metric_type}:\")\n",
    "    for stat_name, value in stats.items():\n",
    "        print(f\"  {stat_name}: {value:.0f}\")"
   ]
  },
  {
   "cell_type": "code",
   "execution_count": 7,
   "id": "e50333fb",
   "metadata": {},
   "outputs": [
    {
     "data": {
      "application/vnd.plotly.v1+json": {
       "config": {
        "plotlyServerURL": "https://plot.ly"
       },
       "data": [
        {
         "name": "Character Count",
         "nbinsx": 20,
         "type": "histogram",
         "x": {
          "bdata": "+wY6Bi0FcAjrFMAM6AXdB0EOTgelBXELKgUFBpkEHgdnCbkH1QlmB6kGQgujCLYLVQc8DF0KMA5PCU8MvghmC/IHcwVsBVYNSQqFCxUDJA3kCD4UDwoxCMQGqwwOB+IIqAoIBg==",
          "dtype": "i2"
         },
         "xaxis": "x",
         "yaxis": "y"
        },
        {
         "name": "Business",
         "showlegend": false,
         "type": "box",
         "xaxis": "x2",
         "y": {
          "bdata": "+wY6Bi0FcAjrFMAM6AXdB0EOTgc=",
          "dtype": "i2"
         },
         "yaxis": "y2"
        },
        {
         "name": "Entertainment",
         "showlegend": false,
         "type": "box",
         "xaxis": "x2",
         "y": {
          "bdata": "pQVxCyoFBQaZBB4HZwm5B9UJZgc=",
          "dtype": "i2"
         },
         "yaxis": "y2"
        },
        {
         "name": "Politics",
         "showlegend": false,
         "type": "box",
         "xaxis": "x2",
         "y": {
          "bdata": "qQZCC6MItgtVBzwMXQowDk8JTww=",
          "dtype": "i2"
         },
         "yaxis": "y2"
        },
        {
         "name": "Sport",
         "showlegend": false,
         "type": "box",
         "xaxis": "x2",
         "y": {
          "bdata": "vghmC/IHcwVsBVYNSQqFCxUDJA0=",
          "dtype": "i2"
         },
         "yaxis": "y2"
        },
        {
         "name": "Tech",
         "showlegend": false,
         "type": "box",
         "xaxis": "x2",
         "y": {
          "bdata": "5Ag+FA8KMQjEBqsMDgfiCKgKCAY=",
          "dtype": "i2"
         },
         "yaxis": "y2"
        },
        {
         "name": "Word Count",
         "nbinsx": 20,
         "type": "histogram",
         "x": {
          "bdata": "IwH9ANcAYAGQAyIC/QBcAWYCKwH2ABMC6wAgAcYAOAGpAXcBywFKARgB/gGAAQQCOgELAs8BfgKXASUCWwEDApYB0wAAAR4CtwElAoQAeAKBAZYDtwFoARcBIgIjAXgBygEJAQ==",
          "dtype": "i2"
         },
         "xaxis": "x3",
         "yaxis": "y3"
        },
        {
         "name": "Business",
         "showlegend": false,
         "type": "box",
         "xaxis": "x4",
         "y": {
          "bdata": "IwH9ANcAYAGQAyIC/QBcAWYCKwE=",
          "dtype": "i2"
         },
         "yaxis": "y4"
        },
        {
         "name": "Entertainment",
         "showlegend": false,
         "type": "box",
         "xaxis": "x4",
         "y": {
          "bdata": "9gATAusAIAHGADgBqQF3AcsBSgE=",
          "dtype": "i2"
         },
         "yaxis": "y4"
        },
        {
         "name": "Politics",
         "showlegend": false,
         "type": "box",
         "xaxis": "x4",
         "y": {
          "bdata": "GAH+AYABBAI6AQsCzwF+ApcBJQI=",
          "dtype": "i2"
         },
         "yaxis": "y4"
        },
        {
         "name": "Sport",
         "showlegend": false,
         "type": "box",
         "xaxis": "x4",
         "y": {
          "bdata": "WwEDApYB0wAAAR4CtwElAoQAeAI=",
          "dtype": "i2"
         },
         "yaxis": "y4"
        },
        {
         "name": "Tech",
         "showlegend": false,
         "type": "box",
         "xaxis": "x4",
         "y": {
          "bdata": "gQGWA7cBaAEXASICIwF4AcoBCQE=",
          "dtype": "i2"
         },
         "yaxis": "y4"
        }
       ],
       "layout": {
        "annotations": [
         {
          "font": {
           "size": 16
          },
          "showarrow": false,
          "text": "Character Count Distribution",
          "x": 0.225,
          "xanchor": "center",
          "xref": "paper",
          "y": 1,
          "yanchor": "bottom",
          "yref": "paper"
         },
         {
          "font": {
           "size": 16
          },
          "showarrow": false,
          "text": "Character Count by Category",
          "x": 0.775,
          "xanchor": "center",
          "xref": "paper",
          "y": 1,
          "yanchor": "bottom",
          "yref": "paper"
         },
         {
          "font": {
           "size": 16
          },
          "showarrow": false,
          "text": "Word Count Distribution",
          "x": 0.225,
          "xanchor": "center",
          "xref": "paper",
          "y": 0.375,
          "yanchor": "bottom",
          "yref": "paper"
         },
         {
          "font": {
           "size": 16
          },
          "showarrow": false,
          "text": "Word Count by Category",
          "x": 0.775,
          "xanchor": "center",
          "xref": "paper",
          "y": 0.375,
          "yanchor": "bottom",
          "yref": "paper"
         }
        ],
        "height": 800,
        "template": {
         "data": {
          "bar": [
           {
            "error_x": {
             "color": "#2a3f5f"
            },
            "error_y": {
             "color": "#2a3f5f"
            },
            "marker": {
             "line": {
              "color": "#E5ECF6",
              "width": 0.5
             },
             "pattern": {
              "fillmode": "overlay",
              "size": 10,
              "solidity": 0.2
             }
            },
            "type": "bar"
           }
          ],
          "barpolar": [
           {
            "marker": {
             "line": {
              "color": "#E5ECF6",
              "width": 0.5
             },
             "pattern": {
              "fillmode": "overlay",
              "size": 10,
              "solidity": 0.2
             }
            },
            "type": "barpolar"
           }
          ],
          "carpet": [
           {
            "aaxis": {
             "endlinecolor": "#2a3f5f",
             "gridcolor": "white",
             "linecolor": "white",
             "minorgridcolor": "white",
             "startlinecolor": "#2a3f5f"
            },
            "baxis": {
             "endlinecolor": "#2a3f5f",
             "gridcolor": "white",
             "linecolor": "white",
             "minorgridcolor": "white",
             "startlinecolor": "#2a3f5f"
            },
            "type": "carpet"
           }
          ],
          "choropleth": [
           {
            "colorbar": {
             "outlinewidth": 0,
             "ticks": ""
            },
            "type": "choropleth"
           }
          ],
          "contour": [
           {
            "colorbar": {
             "outlinewidth": 0,
             "ticks": ""
            },
            "colorscale": [
             [
              0,
              "#0d0887"
             ],
             [
              0.1111111111111111,
              "#46039f"
             ],
             [
              0.2222222222222222,
              "#7201a8"
             ],
             [
              0.3333333333333333,
              "#9c179e"
             ],
             [
              0.4444444444444444,
              "#bd3786"
             ],
             [
              0.5555555555555556,
              "#d8576b"
             ],
             [
              0.6666666666666666,
              "#ed7953"
             ],
             [
              0.7777777777777778,
              "#fb9f3a"
             ],
             [
              0.8888888888888888,
              "#fdca26"
             ],
             [
              1,
              "#f0f921"
             ]
            ],
            "type": "contour"
           }
          ],
          "contourcarpet": [
           {
            "colorbar": {
             "outlinewidth": 0,
             "ticks": ""
            },
            "type": "contourcarpet"
           }
          ],
          "heatmap": [
           {
            "colorbar": {
             "outlinewidth": 0,
             "ticks": ""
            },
            "colorscale": [
             [
              0,
              "#0d0887"
             ],
             [
              0.1111111111111111,
              "#46039f"
             ],
             [
              0.2222222222222222,
              "#7201a8"
             ],
             [
              0.3333333333333333,
              "#9c179e"
             ],
             [
              0.4444444444444444,
              "#bd3786"
             ],
             [
              0.5555555555555556,
              "#d8576b"
             ],
             [
              0.6666666666666666,
              "#ed7953"
             ],
             [
              0.7777777777777778,
              "#fb9f3a"
             ],
             [
              0.8888888888888888,
              "#fdca26"
             ],
             [
              1,
              "#f0f921"
             ]
            ],
            "type": "heatmap"
           }
          ],
          "histogram": [
           {
            "marker": {
             "pattern": {
              "fillmode": "overlay",
              "size": 10,
              "solidity": 0.2
             }
            },
            "type": "histogram"
           }
          ],
          "histogram2d": [
           {
            "colorbar": {
             "outlinewidth": 0,
             "ticks": ""
            },
            "colorscale": [
             [
              0,
              "#0d0887"
             ],
             [
              0.1111111111111111,
              "#46039f"
             ],
             [
              0.2222222222222222,
              "#7201a8"
             ],
             [
              0.3333333333333333,
              "#9c179e"
             ],
             [
              0.4444444444444444,
              "#bd3786"
             ],
             [
              0.5555555555555556,
              "#d8576b"
             ],
             [
              0.6666666666666666,
              "#ed7953"
             ],
             [
              0.7777777777777778,
              "#fb9f3a"
             ],
             [
              0.8888888888888888,
              "#fdca26"
             ],
             [
              1,
              "#f0f921"
             ]
            ],
            "type": "histogram2d"
           }
          ],
          "histogram2dcontour": [
           {
            "colorbar": {
             "outlinewidth": 0,
             "ticks": ""
            },
            "colorscale": [
             [
              0,
              "#0d0887"
             ],
             [
              0.1111111111111111,
              "#46039f"
             ],
             [
              0.2222222222222222,
              "#7201a8"
             ],
             [
              0.3333333333333333,
              "#9c179e"
             ],
             [
              0.4444444444444444,
              "#bd3786"
             ],
             [
              0.5555555555555556,
              "#d8576b"
             ],
             [
              0.6666666666666666,
              "#ed7953"
             ],
             [
              0.7777777777777778,
              "#fb9f3a"
             ],
             [
              0.8888888888888888,
              "#fdca26"
             ],
             [
              1,
              "#f0f921"
             ]
            ],
            "type": "histogram2dcontour"
           }
          ],
          "mesh3d": [
           {
            "colorbar": {
             "outlinewidth": 0,
             "ticks": ""
            },
            "type": "mesh3d"
           }
          ],
          "parcoords": [
           {
            "line": {
             "colorbar": {
              "outlinewidth": 0,
              "ticks": ""
             }
            },
            "type": "parcoords"
           }
          ],
          "pie": [
           {
            "automargin": true,
            "type": "pie"
           }
          ],
          "scatter": [
           {
            "fillpattern": {
             "fillmode": "overlay",
             "size": 10,
             "solidity": 0.2
            },
            "type": "scatter"
           }
          ],
          "scatter3d": [
           {
            "line": {
             "colorbar": {
              "outlinewidth": 0,
              "ticks": ""
             }
            },
            "marker": {
             "colorbar": {
              "outlinewidth": 0,
              "ticks": ""
             }
            },
            "type": "scatter3d"
           }
          ],
          "scattercarpet": [
           {
            "marker": {
             "colorbar": {
              "outlinewidth": 0,
              "ticks": ""
             }
            },
            "type": "scattercarpet"
           }
          ],
          "scattergeo": [
           {
            "marker": {
             "colorbar": {
              "outlinewidth": 0,
              "ticks": ""
             }
            },
            "type": "scattergeo"
           }
          ],
          "scattergl": [
           {
            "marker": {
             "colorbar": {
              "outlinewidth": 0,
              "ticks": ""
             }
            },
            "type": "scattergl"
           }
          ],
          "scattermap": [
           {
            "marker": {
             "colorbar": {
              "outlinewidth": 0,
              "ticks": ""
             }
            },
            "type": "scattermap"
           }
          ],
          "scattermapbox": [
           {
            "marker": {
             "colorbar": {
              "outlinewidth": 0,
              "ticks": ""
             }
            },
            "type": "scattermapbox"
           }
          ],
          "scatterpolar": [
           {
            "marker": {
             "colorbar": {
              "outlinewidth": 0,
              "ticks": ""
             }
            },
            "type": "scatterpolar"
           }
          ],
          "scatterpolargl": [
           {
            "marker": {
             "colorbar": {
              "outlinewidth": 0,
              "ticks": ""
             }
            },
            "type": "scatterpolargl"
           }
          ],
          "scatterternary": [
           {
            "marker": {
             "colorbar": {
              "outlinewidth": 0,
              "ticks": ""
             }
            },
            "type": "scatterternary"
           }
          ],
          "surface": [
           {
            "colorbar": {
             "outlinewidth": 0,
             "ticks": ""
            },
            "colorscale": [
             [
              0,
              "#0d0887"
             ],
             [
              0.1111111111111111,
              "#46039f"
             ],
             [
              0.2222222222222222,
              "#7201a8"
             ],
             [
              0.3333333333333333,
              "#9c179e"
             ],
             [
              0.4444444444444444,
              "#bd3786"
             ],
             [
              0.5555555555555556,
              "#d8576b"
             ],
             [
              0.6666666666666666,
              "#ed7953"
             ],
             [
              0.7777777777777778,
              "#fb9f3a"
             ],
             [
              0.8888888888888888,
              "#fdca26"
             ],
             [
              1,
              "#f0f921"
             ]
            ],
            "type": "surface"
           }
          ],
          "table": [
           {
            "cells": {
             "fill": {
              "color": "#EBF0F8"
             },
             "line": {
              "color": "white"
             }
            },
            "header": {
             "fill": {
              "color": "#C8D4E3"
             },
             "line": {
              "color": "white"
             }
            },
            "type": "table"
           }
          ]
         },
         "layout": {
          "annotationdefaults": {
           "arrowcolor": "#2a3f5f",
           "arrowhead": 0,
           "arrowwidth": 1
          },
          "autotypenumbers": "strict",
          "coloraxis": {
           "colorbar": {
            "outlinewidth": 0,
            "ticks": ""
           }
          },
          "colorscale": {
           "diverging": [
            [
             0,
             "#8e0152"
            ],
            [
             0.1,
             "#c51b7d"
            ],
            [
             0.2,
             "#de77ae"
            ],
            [
             0.3,
             "#f1b6da"
            ],
            [
             0.4,
             "#fde0ef"
            ],
            [
             0.5,
             "#f7f7f7"
            ],
            [
             0.6,
             "#e6f5d0"
            ],
            [
             0.7,
             "#b8e186"
            ],
            [
             0.8,
             "#7fbc41"
            ],
            [
             0.9,
             "#4d9221"
            ],
            [
             1,
             "#276419"
            ]
           ],
           "sequential": [
            [
             0,
             "#0d0887"
            ],
            [
             0.1111111111111111,
             "#46039f"
            ],
            [
             0.2222222222222222,
             "#7201a8"
            ],
            [
             0.3333333333333333,
             "#9c179e"
            ],
            [
             0.4444444444444444,
             "#bd3786"
            ],
            [
             0.5555555555555556,
             "#d8576b"
            ],
            [
             0.6666666666666666,
             "#ed7953"
            ],
            [
             0.7777777777777778,
             "#fb9f3a"
            ],
            [
             0.8888888888888888,
             "#fdca26"
            ],
            [
             1,
             "#f0f921"
            ]
           ],
           "sequentialminus": [
            [
             0,
             "#0d0887"
            ],
            [
             0.1111111111111111,
             "#46039f"
            ],
            [
             0.2222222222222222,
             "#7201a8"
            ],
            [
             0.3333333333333333,
             "#9c179e"
            ],
            [
             0.4444444444444444,
             "#bd3786"
            ],
            [
             0.5555555555555556,
             "#d8576b"
            ],
            [
             0.6666666666666666,
             "#ed7953"
            ],
            [
             0.7777777777777778,
             "#fb9f3a"
            ],
            [
             0.8888888888888888,
             "#fdca26"
            ],
            [
             1,
             "#f0f921"
            ]
           ]
          },
          "colorway": [
           "#636efa",
           "#EF553B",
           "#00cc96",
           "#ab63fa",
           "#FFA15A",
           "#19d3f3",
           "#FF6692",
           "#B6E880",
           "#FF97FF",
           "#FECB52"
          ],
          "font": {
           "color": "#2a3f5f"
          },
          "geo": {
           "bgcolor": "white",
           "lakecolor": "white",
           "landcolor": "#E5ECF6",
           "showlakes": true,
           "showland": true,
           "subunitcolor": "white"
          },
          "hoverlabel": {
           "align": "left"
          },
          "hovermode": "closest",
          "mapbox": {
           "style": "light"
          },
          "paper_bgcolor": "white",
          "plot_bgcolor": "#E5ECF6",
          "polar": {
           "angularaxis": {
            "gridcolor": "white",
            "linecolor": "white",
            "ticks": ""
           },
           "bgcolor": "#E5ECF6",
           "radialaxis": {
            "gridcolor": "white",
            "linecolor": "white",
            "ticks": ""
           }
          },
          "scene": {
           "xaxis": {
            "backgroundcolor": "#E5ECF6",
            "gridcolor": "white",
            "gridwidth": 2,
            "linecolor": "white",
            "showbackground": true,
            "ticks": "",
            "zerolinecolor": "white"
           },
           "yaxis": {
            "backgroundcolor": "#E5ECF6",
            "gridcolor": "white",
            "gridwidth": 2,
            "linecolor": "white",
            "showbackground": true,
            "ticks": "",
            "zerolinecolor": "white"
           },
           "zaxis": {
            "backgroundcolor": "#E5ECF6",
            "gridcolor": "white",
            "gridwidth": 2,
            "linecolor": "white",
            "showbackground": true,
            "ticks": "",
            "zerolinecolor": "white"
           }
          },
          "shapedefaults": {
           "line": {
            "color": "#2a3f5f"
           }
          },
          "ternary": {
           "aaxis": {
            "gridcolor": "white",
            "linecolor": "white",
            "ticks": ""
           },
           "baxis": {
            "gridcolor": "white",
            "linecolor": "white",
            "ticks": ""
           },
           "bgcolor": "#E5ECF6",
           "caxis": {
            "gridcolor": "white",
            "linecolor": "white",
            "ticks": ""
           }
          },
          "title": {
           "x": 0.05
          },
          "xaxis": {
           "automargin": true,
           "gridcolor": "white",
           "linecolor": "white",
           "ticks": "",
           "title": {
            "standoff": 15
           },
           "zerolinecolor": "white",
           "zerolinewidth": 2
          },
          "yaxis": {
           "automargin": true,
           "gridcolor": "white",
           "linecolor": "white",
           "ticks": "",
           "title": {
            "standoff": 15
           },
           "zerolinecolor": "white",
           "zerolinewidth": 2
          }
         }
        },
        "title": {
         "text": "Text Length Analysis"
        },
        "xaxis": {
         "anchor": "y",
         "domain": [
          0,
          0.45
         ]
        },
        "xaxis2": {
         "anchor": "y2",
         "domain": [
          0.55,
          1
         ]
        },
        "xaxis3": {
         "anchor": "y3",
         "domain": [
          0,
          0.45
         ]
        },
        "xaxis4": {
         "anchor": "y4",
         "domain": [
          0.55,
          1
         ]
        },
        "yaxis": {
         "anchor": "x",
         "domain": [
          0.625,
          1
         ]
        },
        "yaxis2": {
         "anchor": "x2",
         "domain": [
          0.625,
          1
         ]
        },
        "yaxis3": {
         "anchor": "x3",
         "domain": [
          0,
          0.375
         ]
        },
        "yaxis4": {
         "anchor": "x4",
         "domain": [
          0,
          0.375
         ]
        }
       }
      }
     },
     "metadata": {},
     "output_type": "display_data"
    }
   ],
   "source": [
    "# Create text length distribution visualizations\n",
    "fig = make_subplots(\n",
    "    rows=2, cols=2,\n",
    "    subplot_titles=('Character Count Distribution', 'Character Count by Category',\n",
    "                   'Word Count Distribution', 'Word Count by Category'),\n",
    "    specs=[[{\"secondary_y\": False}, {\"secondary_y\": False}],\n",
    "           [{\"secondary_y\": False}, {\"secondary_y\": False}]]\n",
    ")\n",
    "\n",
    "# Character count histogram\n",
    "fig.add_trace(\n",
    "    go.Histogram(x=df['text_length_chars'], name='Character Count', nbinsx=20),\n",
    "    row=1, col=1\n",
    ")\n",
    "\n",
    "# Character count box plot by category\n",
    "for category in df['category'].unique():\n",
    "    category_data = df[df['category'] == category]['text_length_chars']\n",
    "    fig.add_trace(\n",
    "        go.Box(y=category_data, name=category.capitalize(), showlegend=False),\n",
    "        row=1, col=2\n",
    "    )\n",
    "\n",
    "# Word count histogram\n",
    "fig.add_trace(\n",
    "    go.Histogram(x=df['text_length_words'], name='Word Count', nbinsx=20),\n",
    "    row=2, col=1\n",
    ")\n",
    "\n",
    "# Word count box plot by category\n",
    "for category in df['category'].unique():\n",
    "    category_data = df[df['category'] == category]['text_length_words']\n",
    "    fig.add_trace(\n",
    "        go.Box(y=category_data, name=category.capitalize(), showlegend=False),\n",
    "        row=2, col=2\n",
    "    )\n",
    "\n",
    "fig.update_layout(height=800, title_text=\"Text Length Analysis\")\n",
    "fig.show()"
   ]
  },
  {
   "cell_type": "markdown",
   "id": "7c605890",
   "metadata": {},
   "source": [
    "## Sample Articles Display\n",
    "\n",
    "Let's examine sample articles from each category to understand content quality and diversity."
   ]
  },
  {
   "cell_type": "code",
   "execution_count": 8,
   "id": "db00ed54",
   "metadata": {},
   "outputs": [
    {
     "name": "stdout",
     "output_type": "stream",
     "text": [
      "📄 Sample Articles from Each Category\n",
      "================================================================================\n",
      "\n",
      "🏷️ Category: BUSINESS\n",
      "📄 Article ID: bbc_business_00\n",
      "📊 Length: 1787 chars, 291 words\n",
      "📝 Text Preview:\n",
      "   france telecom gets orange boost strong growth in subscriptions to mobile phone network orange has helped boost profits at owner france telecom. orange added more than five million new customers in 2004 leading to a 10% increase in its revenues. increased take-up of broadband telecoms services als...\n",
      "--------------------------------------------------------------------------------\n",
      "\n",
      "🏷️ Category: ENTERTAINMENT\n",
      "📄 Article ID: bbc_entertainment_00\n",
      "📊 Length: 1445 chars, 246 words\n",
      "📝 Text Preview:\n",
      "   snow patrol feted at irish awards snow patrol were the big winners in ireland s top music honours the meteor awards picking up accolades for best irish band and album on thursday. the belfast-born glasgow-based band collected the prizes at the ceremony at dublin s point theatre. westlife won the...\n",
      "--------------------------------------------------------------------------------\n",
      "\n",
      "🏷️ Category: POLITICS\n",
      "📄 Article ID: bbc_politics_00\n",
      "📊 Length: 1705 chars, 280 words\n",
      "📝 Text Preview:\n",
      "   us casino tricks face ban in uk controversial new uk casinos will be banned from using american tricks of the trade to ensure they are socially responsible  it has been suggested. culture secretary tessa jowell said proposed super-casinos will be different from their us counterparts. in america...\n",
      "--------------------------------------------------------------------------------\n",
      "\n",
      "🏷️ Category: SPORT\n",
      "📄 Article ID: bbc_sport_00\n",
      "📊 Length: 2238 chars, 347 words\n",
      "📝 Text Preview:\n",
      "   harinordoquy suffers france axe number eight imanol harinordoquy has been dropped from france s squad for the six nations match with ireland in dublin on 12 march. harinordoquy was a second-half replacement in last saturday s 24-18 defeat to wales. bourgoin lock pascal pape who has recovered from ...\n",
      "--------------------------------------------------------------------------------\n",
      "\n",
      "🏷️ Category: TECH\n",
      "📄 Article ID: bbc_tech_00\n",
      "📊 Length: 2276 chars, 385 words\n",
      "📝 Text Preview:\n",
      "   uk broadband gets speed injection broadband s rapid rise continues apace as speeds gear up a notch. an eight megabit service has been launched by internet service provider uk online. it is 16 times faster than the average broadband package on the market and will pave the way for services such as vi...\n",
      "--------------------------------------------------------------------------------\n"
     ]
    }
   ],
   "source": [
    "# Display sample articles from each category\n",
    "def display_article_sample(category, max_chars=300):\n",
    "    \"\"\"Display a sample article from the specified category.\"\"\"\n",
    "    category_articles = df[df['category'] == category]\n",
    "    \n",
    "    if len(category_articles) == 0:\n",
    "        print(f\"No articles found for category: {category}\")\n",
    "        return\n",
    "    \n",
    "    # Get first article from category\n",
    "    sample = category_articles.iloc[0]\n",
    "    \n",
    "    print(f\"\\n🏷️ Category: {category.upper()}\")\n",
    "    print(f\"📄 Article ID: {sample['article_id']}\")\n",
    "    print(f\"📊 Length: {sample['text_length_chars']} chars, {sample['text_length_words']} words\")\n",
    "    print(f\"📝 Text Preview:\")\n",
    "    \n",
    "    preview_text = sample['text'][:max_chars]\n",
    "    if len(sample['text']) > max_chars:\n",
    "        preview_text += \"...\"\n",
    "    \n",
    "    # Format text for better readability\n",
    "    formatted_text = preview_text.replace('\\n', ' ').replace('  ', ' ')\n",
    "    print(f\"   {formatted_text}\")\n",
    "    print(\"-\" * 80)\n",
    "\n",
    "print(\"📄 Sample Articles from Each Category\")\n",
    "print(\"=\" * 80)\n",
    "\n",
    "for category in sorted(df['category'].unique()):\n",
    "    display_article_sample(category)"
   ]
  },
  {
   "cell_type": "markdown",
   "id": "59afaceb",
   "metadata": {},
   "source": [
    "## Data Quality Assessment\n",
    "\n",
    "Let's assess the quality of our dataset for RAG implementation."
   ]
  },
  {
   "cell_type": "code",
   "execution_count": 9,
   "id": "a27c0ca4",
   "metadata": {},
   "outputs": [
    {
     "name": "stdout",
     "output_type": "stream",
     "text": [
      "🔍 Data Quality Assessment\n",
      "==================================================\n",
      "❓ Missing Values:\n",
      "  original_index: ✅ No missing values\n",
      "  category: ✅ No missing values\n",
      "  text: ✅ No missing values\n",
      "  label: ✅ No missing values\n",
      "  label_text: ✅ No missing values\n",
      "  article_id: ✅ No missing values\n",
      "  text_length_chars: ✅ No missing values\n",
      "  text_length_words: ✅ No missing values\n",
      "\n",
      "🔄 Duplicate Articles: 0\n",
      "\n",
      "📏 Article Length Distribution:\n",
      "  Very short articles (<50 words): 0\n",
      "  Very long articles (>1000 words): 0\n",
      "  Normal length articles: 50\n",
      "\n",
      "⚖️ Category Balance: ✅ Perfectly balanced\n",
      "\n",
      "✂️ Chunking Analysis (chunk size: 800 chars):\n",
      "  Articles needing chunking: 49/50 (98.0%)\n",
      "  Average chunks per article: 2.4\n"
     ]
    }
   ],
   "source": [
    "# Data Quality Assessment\n",
    "print(\"🔍 Data Quality Assessment\")\n",
    "print(\"=\" * 50)\n",
    "\n",
    "# Check for missing values\n",
    "missing_data = df.isnull().sum()\n",
    "print(\"❓ Missing Values:\")\n",
    "for col, count in missing_data.items():\n",
    "    if count > 0:\n",
    "        print(f\"  {col}: {count}\")\n",
    "    else:\n",
    "        print(f\"  {col}: ✅ No missing values\")\n",
    "\n",
    "# Check for duplicate articles\n",
    "duplicate_texts = df['text'].duplicated().sum()\n",
    "print(f\"\\n🔄 Duplicate Articles: {duplicate_texts}\")\n",
    "\n",
    "# Check for very short or very long articles\n",
    "short_articles = len(df[df['text_length_words'] < 50])\n",
    "long_articles = len(df[df['text_length_words'] > 1000])\n",
    "\n",
    "print(f\"\\n📏 Article Length Distribution:\")\n",
    "print(f\"  Very short articles (<50 words): {short_articles}\")\n",
    "print(f\"  Very long articles (>1000 words): {long_articles}\")\n",
    "print(f\"  Normal length articles: {len(df) - short_articles - long_articles}\")\n",
    "\n",
    "# Check category balance\n",
    "category_balance = df['category'].value_counts()\n",
    "is_balanced = len(set(category_balance.values)) == 1\n",
    "print(f\"\\n⚖️ Category Balance: {'✅ Perfectly balanced' if is_balanced else '⚠️ Imbalanced'}\")\n",
    "\n",
    "# Chunking analysis based on config\n",
    "chunk_size = config.CHUNK_SIZE\n",
    "print(f\"\\n✂️ Chunking Analysis (chunk size: {chunk_size} chars):\")\n",
    "articles_needing_chunking = len(df[df['text_length_chars'] > chunk_size])\n",
    "avg_chunks_per_article = df['text_length_chars'].apply(lambda x: max(1, x // chunk_size)).mean()\n",
    "\n",
    "print(f\"  Articles needing chunking: {articles_needing_chunking}/{len(df)} ({articles_needing_chunking/len(df)*100:.1f}%)\")\n",
    "print(f\"  Average chunks per article: {avg_chunks_per_article:.1f}\")"
   ]
  },
  {
   "cell_type": "code",
   "execution_count": 10,
   "id": "a4cfa578",
   "metadata": {},
   "outputs": [
    {
     "data": {
      "application/vnd.plotly.v1+json": {
       "config": {
        "plotlyServerURL": "https://plot.ly"
       },
       "data": [
        {
         "name": "Article Count",
         "type": "bar",
         "x": [
          "business",
          "entertainment",
          "politics",
          "sport",
          "tech"
         ],
         "xaxis": "x",
         "y": {
          "bdata": "CgoKCgo=",
          "dtype": "i1"
         },
         "yaxis": "y"
        },
        {
         "name": "Character Count Distribution",
         "type": "histogram",
         "x": {
          "bdata": "+wY6Bi0FcAjrFMAM6AXdB0EOTgelBXELKgUFBpkEHgdnCbkH1QlmB6kGQgujCLYLVQc8DF0KMA5PCU8MvghmC/IHcwVsBVYNSQqFCxUDJA3kCD4UDwoxCMQGqwwOB+IIqAoIBg==",
          "dtype": "i2"
         },
         "xaxis": "x2",
         "yaxis": "y2"
        },
        {
         "marker": {
          "color": {
           "bdata": "AAAAAAAAAAAAAAEBAQEBAQEBAQECAgICAgICAgICAwMDAwMDAwMDAwQEBAQEBAQEBAQ=",
           "dtype": "i1"
          }
         },
         "mode": "markers",
         "name": "Articles",
         "text": [
          "business",
          "business",
          "business",
          "business",
          "business",
          "business",
          "business",
          "business",
          "business",
          "business",
          "entertainment",
          "entertainment",
          "entertainment",
          "entertainment",
          "entertainment",
          "entertainment",
          "entertainment",
          "entertainment",
          "entertainment",
          "entertainment",
          "politics",
          "politics",
          "politics",
          "politics",
          "politics",
          "politics",
          "politics",
          "politics",
          "politics",
          "politics",
          "sport",
          "sport",
          "sport",
          "sport",
          "sport",
          "sport",
          "sport",
          "sport",
          "sport",
          "sport",
          "tech",
          "tech",
          "tech",
          "tech",
          "tech",
          "tech",
          "tech",
          "tech",
          "tech",
          "tech"
         ],
         "type": "scatter",
         "x": {
          "bdata": "IwH9ANcAYAGQAyIC/QBcAWYCKwH2ABMC6wAgAcYAOAGpAXcBywFKARgB/gGAAQQCOgELAs8BfgKXASUCWwEDApYB0wAAAR4CtwElAoQAeAKBAZYDtwFoARcBIgIjAXgBygEJAQ==",
          "dtype": "i2"
         },
         "xaxis": "x3",
         "y": {
          "bdata": "+wY6Bi0FcAjrFMAM6AXdB0EOTgelBXELKgUFBpkEHgdnCbkH1QlmB6kGQgujCLYLVQc8DF0KMA5PCU8MvghmC/IHcwVsBVYNSQqFCxUDJA3kCD4UDwoxCMQGqwwOB+IIqAoIBg==",
          "dtype": "i2"
         },
         "yaxis": "y3"
        },
        {
         "name": "business",
         "showlegend": false,
         "type": "box",
         "xaxis": "x4",
         "y": {
          "bdata": "IwH9ANcAYAGQAyIC/QBcAWYCKwE=",
          "dtype": "i2"
         },
         "yaxis": "y4"
        },
        {
         "name": "entertainment",
         "showlegend": false,
         "type": "box",
         "xaxis": "x4",
         "y": {
          "bdata": "9gATAusAIAHGADgBqQF3AcsBSgE=",
          "dtype": "i2"
         },
         "yaxis": "y4"
        },
        {
         "name": "politics",
         "showlegend": false,
         "type": "box",
         "xaxis": "x4",
         "y": {
          "bdata": "GAH+AYABBAI6AQsCzwF+ApcBJQI=",
          "dtype": "i2"
         },
         "yaxis": "y4"
        },
        {
         "name": "sport",
         "showlegend": false,
         "type": "box",
         "xaxis": "x4",
         "y": {
          "bdata": "WwEDApYB0wAAAR4CtwElAoQAeAI=",
          "dtype": "i2"
         },
         "yaxis": "y4"
        },
        {
         "name": "tech",
         "showlegend": false,
         "type": "box",
         "xaxis": "x4",
         "y": {
          "bdata": "gQGWA7cBaAEXASICIwF4AcoBCQE=",
          "dtype": "i2"
         },
         "yaxis": "y4"
        }
       ],
       "layout": {
        "annotations": [
         {
          "font": {
           "size": 16
          },
          "showarrow": false,
          "text": "Articles per Category",
          "x": 0.225,
          "xanchor": "center",
          "xref": "paper",
          "y": 1,
          "yanchor": "bottom",
          "yref": "paper"
         },
         {
          "font": {
           "size": 16
          },
          "showarrow": false,
          "text": "Text Length Distribution",
          "x": 0.775,
          "xanchor": "center",
          "xref": "paper",
          "y": 1,
          "yanchor": "bottom",
          "yref": "paper"
         },
         {
          "font": {
           "size": 16
          },
          "showarrow": false,
          "text": "Character vs Word Count",
          "x": 0.225,
          "xanchor": "center",
          "xref": "paper",
          "y": 0.375,
          "yanchor": "bottom",
          "yref": "paper"
         },
         {
          "font": {
           "size": 16
          },
          "showarrow": false,
          "text": "Category Word Count Comparison",
          "x": 0.775,
          "xanchor": "center",
          "xref": "paper",
          "y": 0.375,
          "yanchor": "bottom",
          "yref": "paper"
         }
        ],
        "height": 800,
        "template": {
         "data": {
          "bar": [
           {
            "error_x": {
             "color": "#2a3f5f"
            },
            "error_y": {
             "color": "#2a3f5f"
            },
            "marker": {
             "line": {
              "color": "#E5ECF6",
              "width": 0.5
             },
             "pattern": {
              "fillmode": "overlay",
              "size": 10,
              "solidity": 0.2
             }
            },
            "type": "bar"
           }
          ],
          "barpolar": [
           {
            "marker": {
             "line": {
              "color": "#E5ECF6",
              "width": 0.5
             },
             "pattern": {
              "fillmode": "overlay",
              "size": 10,
              "solidity": 0.2
             }
            },
            "type": "barpolar"
           }
          ],
          "carpet": [
           {
            "aaxis": {
             "endlinecolor": "#2a3f5f",
             "gridcolor": "white",
             "linecolor": "white",
             "minorgridcolor": "white",
             "startlinecolor": "#2a3f5f"
            },
            "baxis": {
             "endlinecolor": "#2a3f5f",
             "gridcolor": "white",
             "linecolor": "white",
             "minorgridcolor": "white",
             "startlinecolor": "#2a3f5f"
            },
            "type": "carpet"
           }
          ],
          "choropleth": [
           {
            "colorbar": {
             "outlinewidth": 0,
             "ticks": ""
            },
            "type": "choropleth"
           }
          ],
          "contour": [
           {
            "colorbar": {
             "outlinewidth": 0,
             "ticks": ""
            },
            "colorscale": [
             [
              0,
              "#0d0887"
             ],
             [
              0.1111111111111111,
              "#46039f"
             ],
             [
              0.2222222222222222,
              "#7201a8"
             ],
             [
              0.3333333333333333,
              "#9c179e"
             ],
             [
              0.4444444444444444,
              "#bd3786"
             ],
             [
              0.5555555555555556,
              "#d8576b"
             ],
             [
              0.6666666666666666,
              "#ed7953"
             ],
             [
              0.7777777777777778,
              "#fb9f3a"
             ],
             [
              0.8888888888888888,
              "#fdca26"
             ],
             [
              1,
              "#f0f921"
             ]
            ],
            "type": "contour"
           }
          ],
          "contourcarpet": [
           {
            "colorbar": {
             "outlinewidth": 0,
             "ticks": ""
            },
            "type": "contourcarpet"
           }
          ],
          "heatmap": [
           {
            "colorbar": {
             "outlinewidth": 0,
             "ticks": ""
            },
            "colorscale": [
             [
              0,
              "#0d0887"
             ],
             [
              0.1111111111111111,
              "#46039f"
             ],
             [
              0.2222222222222222,
              "#7201a8"
             ],
             [
              0.3333333333333333,
              "#9c179e"
             ],
             [
              0.4444444444444444,
              "#bd3786"
             ],
             [
              0.5555555555555556,
              "#d8576b"
             ],
             [
              0.6666666666666666,
              "#ed7953"
             ],
             [
              0.7777777777777778,
              "#fb9f3a"
             ],
             [
              0.8888888888888888,
              "#fdca26"
             ],
             [
              1,
              "#f0f921"
             ]
            ],
            "type": "heatmap"
           }
          ],
          "histogram": [
           {
            "marker": {
             "pattern": {
              "fillmode": "overlay",
              "size": 10,
              "solidity": 0.2
             }
            },
            "type": "histogram"
           }
          ],
          "histogram2d": [
           {
            "colorbar": {
             "outlinewidth": 0,
             "ticks": ""
            },
            "colorscale": [
             [
              0,
              "#0d0887"
             ],
             [
              0.1111111111111111,
              "#46039f"
             ],
             [
              0.2222222222222222,
              "#7201a8"
             ],
             [
              0.3333333333333333,
              "#9c179e"
             ],
             [
              0.4444444444444444,
              "#bd3786"
             ],
             [
              0.5555555555555556,
              "#d8576b"
             ],
             [
              0.6666666666666666,
              "#ed7953"
             ],
             [
              0.7777777777777778,
              "#fb9f3a"
             ],
             [
              0.8888888888888888,
              "#fdca26"
             ],
             [
              1,
              "#f0f921"
             ]
            ],
            "type": "histogram2d"
           }
          ],
          "histogram2dcontour": [
           {
            "colorbar": {
             "outlinewidth": 0,
             "ticks": ""
            },
            "colorscale": [
             [
              0,
              "#0d0887"
             ],
             [
              0.1111111111111111,
              "#46039f"
             ],
             [
              0.2222222222222222,
              "#7201a8"
             ],
             [
              0.3333333333333333,
              "#9c179e"
             ],
             [
              0.4444444444444444,
              "#bd3786"
             ],
             [
              0.5555555555555556,
              "#d8576b"
             ],
             [
              0.6666666666666666,
              "#ed7953"
             ],
             [
              0.7777777777777778,
              "#fb9f3a"
             ],
             [
              0.8888888888888888,
              "#fdca26"
             ],
             [
              1,
              "#f0f921"
             ]
            ],
            "type": "histogram2dcontour"
           }
          ],
          "mesh3d": [
           {
            "colorbar": {
             "outlinewidth": 0,
             "ticks": ""
            },
            "type": "mesh3d"
           }
          ],
          "parcoords": [
           {
            "line": {
             "colorbar": {
              "outlinewidth": 0,
              "ticks": ""
             }
            },
            "type": "parcoords"
           }
          ],
          "pie": [
           {
            "automargin": true,
            "type": "pie"
           }
          ],
          "scatter": [
           {
            "fillpattern": {
             "fillmode": "overlay",
             "size": 10,
             "solidity": 0.2
            },
            "type": "scatter"
           }
          ],
          "scatter3d": [
           {
            "line": {
             "colorbar": {
              "outlinewidth": 0,
              "ticks": ""
             }
            },
            "marker": {
             "colorbar": {
              "outlinewidth": 0,
              "ticks": ""
             }
            },
            "type": "scatter3d"
           }
          ],
          "scattercarpet": [
           {
            "marker": {
             "colorbar": {
              "outlinewidth": 0,
              "ticks": ""
             }
            },
            "type": "scattercarpet"
           }
          ],
          "scattergeo": [
           {
            "marker": {
             "colorbar": {
              "outlinewidth": 0,
              "ticks": ""
             }
            },
            "type": "scattergeo"
           }
          ],
          "scattergl": [
           {
            "marker": {
             "colorbar": {
              "outlinewidth": 0,
              "ticks": ""
             }
            },
            "type": "scattergl"
           }
          ],
          "scattermap": [
           {
            "marker": {
             "colorbar": {
              "outlinewidth": 0,
              "ticks": ""
             }
            },
            "type": "scattermap"
           }
          ],
          "scattermapbox": [
           {
            "marker": {
             "colorbar": {
              "outlinewidth": 0,
              "ticks": ""
             }
            },
            "type": "scattermapbox"
           }
          ],
          "scatterpolar": [
           {
            "marker": {
             "colorbar": {
              "outlinewidth": 0,
              "ticks": ""
             }
            },
            "type": "scatterpolar"
           }
          ],
          "scatterpolargl": [
           {
            "marker": {
             "colorbar": {
              "outlinewidth": 0,
              "ticks": ""
             }
            },
            "type": "scatterpolargl"
           }
          ],
          "scatterternary": [
           {
            "marker": {
             "colorbar": {
              "outlinewidth": 0,
              "ticks": ""
             }
            },
            "type": "scatterternary"
           }
          ],
          "surface": [
           {
            "colorbar": {
             "outlinewidth": 0,
             "ticks": ""
            },
            "colorscale": [
             [
              0,
              "#0d0887"
             ],
             [
              0.1111111111111111,
              "#46039f"
             ],
             [
              0.2222222222222222,
              "#7201a8"
             ],
             [
              0.3333333333333333,
              "#9c179e"
             ],
             [
              0.4444444444444444,
              "#bd3786"
             ],
             [
              0.5555555555555556,
              "#d8576b"
             ],
             [
              0.6666666666666666,
              "#ed7953"
             ],
             [
              0.7777777777777778,
              "#fb9f3a"
             ],
             [
              0.8888888888888888,
              "#fdca26"
             ],
             [
              1,
              "#f0f921"
             ]
            ],
            "type": "surface"
           }
          ],
          "table": [
           {
            "cells": {
             "fill": {
              "color": "#EBF0F8"
             },
             "line": {
              "color": "white"
             }
            },
            "header": {
             "fill": {
              "color": "#C8D4E3"
             },
             "line": {
              "color": "white"
             }
            },
            "type": "table"
           }
          ]
         },
         "layout": {
          "annotationdefaults": {
           "arrowcolor": "#2a3f5f",
           "arrowhead": 0,
           "arrowwidth": 1
          },
          "autotypenumbers": "strict",
          "coloraxis": {
           "colorbar": {
            "outlinewidth": 0,
            "ticks": ""
           }
          },
          "colorscale": {
           "diverging": [
            [
             0,
             "#8e0152"
            ],
            [
             0.1,
             "#c51b7d"
            ],
            [
             0.2,
             "#de77ae"
            ],
            [
             0.3,
             "#f1b6da"
            ],
            [
             0.4,
             "#fde0ef"
            ],
            [
             0.5,
             "#f7f7f7"
            ],
            [
             0.6,
             "#e6f5d0"
            ],
            [
             0.7,
             "#b8e186"
            ],
            [
             0.8,
             "#7fbc41"
            ],
            [
             0.9,
             "#4d9221"
            ],
            [
             1,
             "#276419"
            ]
           ],
           "sequential": [
            [
             0,
             "#0d0887"
            ],
            [
             0.1111111111111111,
             "#46039f"
            ],
            [
             0.2222222222222222,
             "#7201a8"
            ],
            [
             0.3333333333333333,
             "#9c179e"
            ],
            [
             0.4444444444444444,
             "#bd3786"
            ],
            [
             0.5555555555555556,
             "#d8576b"
            ],
            [
             0.6666666666666666,
             "#ed7953"
            ],
            [
             0.7777777777777778,
             "#fb9f3a"
            ],
            [
             0.8888888888888888,
             "#fdca26"
            ],
            [
             1,
             "#f0f921"
            ]
           ],
           "sequentialminus": [
            [
             0,
             "#0d0887"
            ],
            [
             0.1111111111111111,
             "#46039f"
            ],
            [
             0.2222222222222222,
             "#7201a8"
            ],
            [
             0.3333333333333333,
             "#9c179e"
            ],
            [
             0.4444444444444444,
             "#bd3786"
            ],
            [
             0.5555555555555556,
             "#d8576b"
            ],
            [
             0.6666666666666666,
             "#ed7953"
            ],
            [
             0.7777777777777778,
             "#fb9f3a"
            ],
            [
             0.8888888888888888,
             "#fdca26"
            ],
            [
             1,
             "#f0f921"
            ]
           ]
          },
          "colorway": [
           "#636efa",
           "#EF553B",
           "#00cc96",
           "#ab63fa",
           "#FFA15A",
           "#19d3f3",
           "#FF6692",
           "#B6E880",
           "#FF97FF",
           "#FECB52"
          ],
          "font": {
           "color": "#2a3f5f"
          },
          "geo": {
           "bgcolor": "white",
           "lakecolor": "white",
           "landcolor": "#E5ECF6",
           "showlakes": true,
           "showland": true,
           "subunitcolor": "white"
          },
          "hoverlabel": {
           "align": "left"
          },
          "hovermode": "closest",
          "mapbox": {
           "style": "light"
          },
          "paper_bgcolor": "white",
          "plot_bgcolor": "#E5ECF6",
          "polar": {
           "angularaxis": {
            "gridcolor": "white",
            "linecolor": "white",
            "ticks": ""
           },
           "bgcolor": "#E5ECF6",
           "radialaxis": {
            "gridcolor": "white",
            "linecolor": "white",
            "ticks": ""
           }
          },
          "scene": {
           "xaxis": {
            "backgroundcolor": "#E5ECF6",
            "gridcolor": "white",
            "gridwidth": 2,
            "linecolor": "white",
            "showbackground": true,
            "ticks": "",
            "zerolinecolor": "white"
           },
           "yaxis": {
            "backgroundcolor": "#E5ECF6",
            "gridcolor": "white",
            "gridwidth": 2,
            "linecolor": "white",
            "showbackground": true,
            "ticks": "",
            "zerolinecolor": "white"
           },
           "zaxis": {
            "backgroundcolor": "#E5ECF6",
            "gridcolor": "white",
            "gridwidth": 2,
            "linecolor": "white",
            "showbackground": true,
            "ticks": "",
            "zerolinecolor": "white"
           }
          },
          "shapedefaults": {
           "line": {
            "color": "#2a3f5f"
           }
          },
          "ternary": {
           "aaxis": {
            "gridcolor": "white",
            "linecolor": "white",
            "ticks": ""
           },
           "baxis": {
            "gridcolor": "white",
            "linecolor": "white",
            "ticks": ""
           },
           "bgcolor": "#E5ECF6",
           "caxis": {
            "gridcolor": "white",
            "linecolor": "white",
            "ticks": ""
           }
          },
          "title": {
           "x": 0.05
          },
          "xaxis": {
           "automargin": true,
           "gridcolor": "white",
           "linecolor": "white",
           "ticks": "",
           "title": {
            "standoff": 15
           },
           "zerolinecolor": "white",
           "zerolinewidth": 2
          },
          "yaxis": {
           "automargin": true,
           "gridcolor": "white",
           "linecolor": "white",
           "ticks": "",
           "title": {
            "standoff": 15
           },
           "zerolinecolor": "white",
           "zerolinewidth": 2
          }
         }
        },
        "title": {
         "text": "BBC News Dataset - Comprehensive Analysis"
        },
        "xaxis": {
         "anchor": "y",
         "domain": [
          0,
          0.45
         ],
         "title": {
          "text": "Category"
         }
        },
        "xaxis2": {
         "anchor": "y2",
         "domain": [
          0.55,
          1
         ],
         "title": {
          "text": "Character Count"
         }
        },
        "xaxis3": {
         "anchor": "y3",
         "domain": [
          0,
          0.45
         ],
         "title": {
          "text": "Word Count"
         }
        },
        "xaxis4": {
         "anchor": "y4",
         "domain": [
          0.55,
          1
         ],
         "title": {
          "text": "Category"
         }
        },
        "yaxis": {
         "anchor": "x",
         "domain": [
          0.625,
          1
         ],
         "title": {
          "text": "Count"
         }
        },
        "yaxis2": {
         "anchor": "x2",
         "domain": [
          0.625,
          1
         ]
        },
        "yaxis3": {
         "anchor": "x3",
         "domain": [
          0,
          0.375
         ],
         "title": {
          "text": "Character Count"
         }
        },
        "yaxis4": {
         "anchor": "x4",
         "domain": [
          0,
          0.375
         ],
         "title": {
          "text": "Word Count"
         }
        }
       }
      }
     },
     "metadata": {},
     "output_type": "display_data"
    }
   ],
   "source": [
    "# Create a comprehensive summary visualization\n",
    "fig = make_subplots(\n",
    "    rows=2, cols=2,\n",
    "    subplot_titles=('Articles per Category', 'Text Length Distribution', \n",
    "                   'Character vs Word Count', 'Category Word Count Comparison'),\n",
    "    specs=[[{\"type\": \"bar\"}, {\"type\": \"histogram\"}],\n",
    "           [{\"type\": \"scatter\"}, {\"type\": \"box\"}]]\n",
    ")\n",
    "\n",
    "# 1. Articles per category\n",
    "fig.add_trace(\n",
    "    go.Bar(x=category_counts.index, y=category_counts.values, name='Article Count'),\n",
    "    row=1, col=1\n",
    ")\n",
    "\n",
    "# 2. Text length distribution\n",
    "fig.add_trace(\n",
    "    go.Histogram(x=df['text_length_chars'], name='Character Count Distribution'),\n",
    "    row=1, col=2\n",
    ")\n",
    "\n",
    "# 3. Character vs Word count scatter\n",
    "fig.add_trace(\n",
    "    go.Scatter(\n",
    "        x=df['text_length_words'], \n",
    "        y=df['text_length_chars'],\n",
    "        mode='markers',\n",
    "        text=df['category'],\n",
    "        name='Articles',\n",
    "        marker=dict(color=df['category'].astype('category').cat.codes)\n",
    "    ),\n",
    "    row=2, col=1\n",
    ")\n",
    "\n",
    "# 4. Word count by category\n",
    "for i, category in enumerate(df['category'].unique()):\n",
    "    category_data = df[df['category'] == category]['text_length_words']\n",
    "    fig.add_trace(\n",
    "        go.Box(y=category_data, name=category, showlegend=False),\n",
    "        row=2, col=2\n",
    "    )\n",
    "\n",
    "fig.update_layout(height=800, title_text=\"BBC News Dataset - Comprehensive Analysis\")\n",
    "fig.update_xaxes(title_text=\"Category\", row=1, col=1)\n",
    "fig.update_yaxes(title_text=\"Count\", row=1, col=1)\n",
    "fig.update_xaxes(title_text=\"Character Count\", row=1, col=2)\n",
    "fig.update_xaxes(title_text=\"Word Count\", row=2, col=1)\n",
    "fig.update_yaxes(title_text=\"Character Count\", row=2, col=1)\n",
    "fig.update_xaxes(title_text=\"Category\", row=2, col=2)\n",
    "fig.update_yaxes(title_text=\"Word Count\", row=2, col=2)\n",
    "\n",
    "fig.show()"
   ]
  },
  {
   "cell_type": "markdown",
   "id": "aed10659",
   "metadata": {},
   "source": [
    "## Key Insights for RAG Implementation\n",
    "\n",
    "Based on our data exploration, here are the key findings:"
   ]
  },
  {
   "cell_type": "code",
   "execution_count": 11,
   "id": "f04c50d8",
   "metadata": {},
   "outputs": [
    {
     "name": "stdout",
     "output_type": "stream",
     "text": [
      "🎯 Key Insights for KG-Enhanced RAG Implementation\n",
      "============================================================\n",
      "\n",
      "✅ Dataset Quality:\n",
      "  • Balanced distribution across all 5 categories\n",
      "  • No missing or duplicate articles\n",
      "  • Good text quality and diversity\n",
      "\n",
      "📊 Content Characteristics:\n",
      "  • Average article length: 2375 characters\n",
      "  • Average word count: 408 words\n",
      "  • Length range: 789 - 5355 characters\n",
      "\n",
      "✂️ Chunking Strategy:\n",
      "  • Chunk size: 800 characters\n",
      "  • Articles needing chunking: 49/50 (98.0%)\n",
      "  • Overlap: 100 characters\n",
      "\n",
      "🏷️ Categories for Knowledge Graph:\n",
      "  • 5 distinct categories: business, entertainment, politics, sport, tech\n",
      "  • 10 articles per category\n",
      "\n",
      "💡 Recommendations:\n",
      "  • Current chunk size is appropriate for most articles\n",
      "  • Categories provide good diversity for knowledge graph construction\n",
      "  • Text quality is suitable for embedding generation\n",
      "  • Dataset size is manageable for development and testing\n",
      "\n",
      "🎉 Dataset is ready for KG-Enhanced RAG implementation!\n"
     ]
    }
   ],
   "source": [
    "# Generate insights for RAG implementation\n",
    "print(\"🎯 Key Insights for KG-Enhanced RAG Implementation\")\n",
    "print(\"=\" * 60)\n",
    "\n",
    "print(\"\\n✅ Dataset Quality:\")\n",
    "print(\"  • Balanced distribution across all 5 categories\")\n",
    "print(\"  • No missing or duplicate articles\")\n",
    "print(\"  • Good text quality and diversity\")\n",
    "\n",
    "print(f\"\\n📊 Content Characteristics:\")\n",
    "print(f\"  • Average article length: {df['text_length_chars'].mean():.0f} characters\")\n",
    "print(f\"  • Average word count: {df['text_length_words'].mean():.0f} words\")\n",
    "print(f\"  • Length range: {df['text_length_chars'].min():.0f} - {df['text_length_chars'].max():.0f} characters\")\n",
    "\n",
    "chunk_analysis = df['text_length_chars'] > config.CHUNK_SIZE\n",
    "chunking_needed = chunk_analysis.sum()\n",
    "\n",
    "print(f\"\\n✂️ Chunking Strategy:\")\n",
    "print(f\"  • Chunk size: {config.CHUNK_SIZE} characters\")\n",
    "print(f\"  • Articles needing chunking: {chunking_needed}/{len(df)} ({chunking_needed/len(df)*100:.1f}%)\")\n",
    "print(f\"  • Overlap: {config.CHUNK_OVERLAP} characters\")\n",
    "\n",
    "print(f\"\\n🏷️ Categories for Knowledge Graph:\")\n",
    "categories = df['category'].unique()\n",
    "print(f\"  • {len(categories)} distinct categories: {', '.join(categories)}\")\n",
    "print(f\"  • {config.ARTICLES_PER_CATEGORY} articles per category\")\n",
    "\n",
    "print(f\"\\n💡 Recommendations:\")\n",
    "print(\"  • Current chunk size is appropriate for most articles\")\n",
    "print(\"  • Categories provide good diversity for knowledge graph construction\")\n",
    "print(\"  • Text quality is suitable for embedding generation\")\n",
    "print(\"  • Dataset size is manageable for development and testing\")\n",
    "\n",
    "print(f\"\\n🎉 Dataset is ready for KG-Enhanced RAG implementation!\")"
   ]
  }
 ],
 "metadata": {
  "kernelspec": {
   "display_name": ".venv",
   "language": "python",
   "name": "python3"
  },
  "language_info": {
   "codemirror_mode": {
    "name": "ipython",
    "version": 3
   },
   "file_extension": ".py",
   "mimetype": "text/x-python",
   "name": "python",
   "nbconvert_exporter": "python",
   "pygments_lexer": "ipython3",
   "version": "3.13.5"
  }
 },
 "nbformat": 4,
 "nbformat_minor": 5
}
